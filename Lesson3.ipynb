{
 "cells": [
  {
   "cell_type": "markdown",
   "metadata": {},
   "source": [
    "Import pandas as pd.py"
   ]
  },
  {
   "cell_type": "code",
   "execution_count": 2,
   "metadata": {},
   "outputs": [
    {
     "name": "stdout",
     "output_type": "stream",
     "text": [
      "0       Monday\n",
      "1      Tuesday\n",
      "2    Wednesday\n",
      "dtype: object\n",
      "0       Monday\n",
      "1      Tuesday\n",
      "2    Wednesday\n",
      "dtype: object\n"
     ]
    },
    {
     "data": {
      "text/plain": [
       "'Wednesday'"
      ]
     },
     "execution_count": 2,
     "metadata": {},
     "output_type": "execute_result"
    }
   ],
   "source": [
    "# convention for importing numpy\n",
    "import pandas as pd\n",
    "import numpy as np\n",
    "days = pd.Series(['Monday', 'Tuesday', 'Wednesday'])\n",
    "print(days) # prints\n",
    "#0       Monday\n",
    "#1      Tuesday\n",
    "#2    Wednesday\n",
    "#dtype: object\n",
    "\n",
    "\n",
    "# creating series with a numpy array\n",
    "days_list = np.array(['Monday', 'Tuesday', 'Wednesday'])\n",
    "numpy_days = pd.Series(days_list)\n",
    "print(numpy_days) # prints\n",
    "#0       Monday\n",
    "#1      Tuesday\n",
    "#2    Wednesday\n",
    "#dtype: object\n",
    "\n",
    "# using strings as index\n",
    "days = pd.Series(['Monday', 'Tuesday', 'Wednesday'], \n",
    "index=['a', 'b', 'c'])\n",
    "# create series from a dictionary\n",
    "days1 = pd.Series({'a':'Monday', 'b':'Tuesday', 'c':'Wednesday'})\n",
    "\n",
    "# days and days1 prints this \n",
    "#a       Monday\n",
    "#b      Tuesday\n",
    "#c    Wednesday\n",
    "#dtype: object\n",
    "\n",
    "#Series can be accessed using the specified index as shown below\n",
    "days[0] #=  Monday\n",
    "\n",
    "days[1: ] #= b      Tuesday\n",
    "           # c    Wednesday\n",
    "            #dtype: object\n",
    "\n",
    "days['c']  #= Wednesday"
   ]
  },
  {
   "cell_type": "code",
   "execution_count": 5,
   "metadata": {},
   "outputs": [
    {
     "name": "stdout",
     "output_type": "stream",
     "text": [
      "Empty DataFrame\n",
      "Columns: []\n",
      "Index: []\n"
     ]
    }
   ],
   "source": [
    "\n",
    "print(pd.DataFrame())\n",
    "# prints an empty dataframe\n",
    "#Empty DataFrame\n",
    "Columns: []\n",
    "Index: []\n",
    "\n",
    "# create a dataframe from a dictionary\n",
    "df_dict = {'Country': ['Ghana', 'Kenya', 'Nigeria', 'Togo'],\n",
    "           'Capital': ['Accra', 'Nairobi', 'Abuja', 'Lome'],\n",
    "           'Population': [10000, 8500, 35000, 12000],\n",
    "           'Age': [60, 70, 80, 75]\n",
    "}\n",
    "df = pd.DataFrame(df_dict, index=[2, 4, 6, 8])\n",
    "\n",
    "df_list = [['Ghana', 'Accra', 10000, 60], \n",
    "           ['Kenya', 'Nairobi', 8500, 70], \n",
    "           ['Nigeria',   'Abuja', 35000, 80], \n",
    "           ['Togo', 'Lome', 12000, 75]]\n",
    "df1 = pd.DataFrame(df_list, columns=['Country', 'Capital','Population', 'Age'], \n",
    "                   index=[2, 4, 6, 8])\n",
    "\n",
    "# df and df1 prints this\n",
    "#      Country   Capital   Population\tAge\n",
    "#2\tGhana\t     Accra     10000\t60\n",
    "#4\tKenya\t     Nairobi   8500\t       70\n",
    "#6\tNigeria     Abuja     35000\t80\n",
    "#8\tTogo\t     Lome      12000\t75"
   ]
  },
  {
   "cell_type": "code",
   "execution_count": 6,
   "metadata": {},
   "outputs": [
    {
     "data": {
      "text/plain": [
       "'Nigeria'"
      ]
     },
     "execution_count": 6,
     "metadata": {},
     "output_type": "execute_result"
    }
   ],
   "source": [
    "# select the row in the at index 3\n",
    "df.iloc[3] #=  Country       Togo\n",
    "            #  Capital       Lome\n",
    "             # Population   12000\n",
    "              #Age           75\n",
    "              #Name: 8, dtype: object\n",
    "# select row with index label 6\n",
    "df.loc[6] #=   Country      Nigeria\n",
    "           #   Capital      Abuja\n",
    "             # Population  35000\n",
    "             # Age          80\n",
    "              #Name: 6, dtype: object\n",
    "# select the Capital column\n",
    "df['Capital'] #= 2      Accra\n",
    "               # 4    Nairobi\n",
    "                #6      Abuja\n",
    "                #8       Lome\n",
    "               #Name: Capital, dtype: object\n",
    "df.at[6, 'Country'] #= Nigeria\n",
    "df.iat[2, 0] #= Nigeria"
   ]
  },
  {
   "cell_type": "markdown",
   "metadata": {},
   "source": [
    "Dataframes.py"
   ]
  },
  {
   "cell_type": "markdown",
   "metadata": {},
   "source": [
    "Dealing with Missing data.py"
   ]
  },
  {
   "cell_type": "code",
   "execution_count": 7,
   "metadata": {},
   "outputs": [
    {
     "data": {
      "text/html": [
       "<div>\n",
       "<style scoped>\n",
       "    .dataframe tbody tr th:only-of-type {\n",
       "        vertical-align: middle;\n",
       "    }\n",
       "\n",
       "    .dataframe tbody tr th {\n",
       "        vertical-align: top;\n",
       "    }\n",
       "\n",
       "    .dataframe thead th {\n",
       "        text-align: right;\n",
       "    }\n",
       "</style>\n",
       "<table border=\"1\" class=\"dataframe\">\n",
       "  <thead>\n",
       "    <tr style=\"text-align: right;\">\n",
       "      <th></th>\n",
       "      <th>Name</th>\n",
       "      <th>Profession</th>\n",
       "      <th>Experience</th>\n",
       "      <th>Height</th>\n",
       "    </tr>\n",
       "  </thead>\n",
       "  <tbody>\n",
       "    <tr>\n",
       "      <th>2</th>\n",
       "      <td>Caro</td>\n",
       "      <td>Doctor</td>\n",
       "      <td>10.0</td>\n",
       "      <td>180.0</td>\n",
       "    </tr>\n",
       "  </tbody>\n",
       "</table>\n",
       "</div>"
      ],
      "text/plain": [
       "   Name Profession  Experience  Height\n",
       "2  Caro     Doctor        10.0   180.0"
      ]
     },
     "execution_count": 7,
     "metadata": {},
     "output_type": "execute_result"
    }
   ],
   "source": [
    "df_dict2 = {'Name': ['James', 'Yemen', 'Caro', np.nan],\n",
    "           'Profession': ['Researcher', 'Artist', 'Doctor', 'Writer'],\n",
    "           'Experience': [12, np.nan, 10, 8],\n",
    "           'Height': [np.nan, 175, 180, 150]}\n",
    "\n",
    "new_df = pd.DataFrame(df_dict2)\n",
    "\n",
    "#       Name\tProfession\tExperience\tHeight\n",
    "#0\tJames\tResearcher\t  12.0\t       NaN\n",
    "#1\tYemen\tArtist\t         NaN\t      175.0\n",
    "#2\tCaro\tDoctor\t         10.0\t      180.0\n",
    "#3\tNaN\tWriter\t          8.0\t      150.0\n",
    "\n",
    "# check for cells with missing values as True\n",
    "new_df.isnull()\n",
    "\n",
    "#       Name\tProfession\tExperience\tHeight\n",
    "#0\tFalse\t  False\t  False\tTrue\n",
    "#1\tFalse\t  False\t  True\t       False\n",
    "#2\tFalse\t  False\t  False\tFalse\n",
    "#3\tTrue\t  False\t  False\tFalse\n",
    "\n",
    "# remove rows with missing values\n",
    "new_df.dropna()\n",
    "#\tName\tProfession\tExperience\tHeight\n",
    "#2\tCaro\tDoctor\t         10.0\t       180.0"
   ]
  },
  {
   "cell_type": "markdown",
   "metadata": {},
   "source": [
    "Describe function.py"
   ]
  },
  {
   "cell_type": "code",
   "execution_count": 9,
   "metadata": {},
   "outputs": [
    {
     "data": {
      "text/html": [
       "<div>\n",
       "<style scoped>\n",
       "    .dataframe tbody tr th:only-of-type {\n",
       "        vertical-align: middle;\n",
       "    }\n",
       "\n",
       "    .dataframe tbody tr th {\n",
       "        vertical-align: top;\n",
       "    }\n",
       "\n",
       "    .dataframe thead th {\n",
       "        text-align: right;\n",
       "    }\n",
       "</style>\n",
       "<table border=\"1\" class=\"dataframe\">\n",
       "  <thead>\n",
       "    <tr style=\"text-align: right;\">\n",
       "      <th></th>\n",
       "      <th>Population</th>\n",
       "      <th>Age</th>\n",
       "    </tr>\n",
       "  </thead>\n",
       "  <tbody>\n",
       "    <tr>\n",
       "      <th>count</th>\n",
       "      <td>4.000000</td>\n",
       "      <td>4.000000</td>\n",
       "    </tr>\n",
       "    <tr>\n",
       "      <th>mean</th>\n",
       "      <td>16375.000000</td>\n",
       "      <td>71.250000</td>\n",
       "    </tr>\n",
       "    <tr>\n",
       "      <th>std</th>\n",
       "      <td>12499.166639</td>\n",
       "      <td>8.539126</td>\n",
       "    </tr>\n",
       "    <tr>\n",
       "      <th>min</th>\n",
       "      <td>8500.000000</td>\n",
       "      <td>60.000000</td>\n",
       "    </tr>\n",
       "    <tr>\n",
       "      <th>25%</th>\n",
       "      <td>9625.000000</td>\n",
       "      <td>67.500000</td>\n",
       "    </tr>\n",
       "    <tr>\n",
       "      <th>50%</th>\n",
       "      <td>11000.000000</td>\n",
       "      <td>72.500000</td>\n",
       "    </tr>\n",
       "    <tr>\n",
       "      <th>75%</th>\n",
       "      <td>17750.000000</td>\n",
       "      <td>76.250000</td>\n",
       "    </tr>\n",
       "    <tr>\n",
       "      <th>max</th>\n",
       "      <td>35000.000000</td>\n",
       "      <td>80.000000</td>\n",
       "    </tr>\n",
       "  </tbody>\n",
       "</table>\n",
       "</div>"
      ],
      "text/plain": [
       "         Population        Age\n",
       "count      4.000000   4.000000\n",
       "mean   16375.000000  71.250000\n",
       "std    12499.166639   8.539126\n",
       "min     8500.000000  60.000000\n",
       "25%     9625.000000  67.500000\n",
       "50%    11000.000000  72.500000\n",
       "75%    17750.000000  76.250000\n",
       "max    35000.000000  80.000000"
      ]
     },
     "execution_count": 9,
     "metadata": {},
     "output_type": "execute_result"
    }
   ],
   "source": [
    "df['Population'].sum() #= 65500\n",
    "df.mean() #= Population    16375.00\n",
    "            #Age           71.25\n",
    "            #dtype: float64\n",
    "df.describe() #= \t       Population  Age\n",
    "                 #count      4.0         4.0\n",
    "                 #mean\t 16375.00    71.3\n",
    "                 #std\t 12499.2\t 8.5\n",
    "                 #min\t 8500.0      60.0\n",
    "                 #25%\t 9625.0      67.5\n",
    "                 #50%\t 11000.0     72.5\n",
    "                 #75%\t 17750.0     76.3\n",
    "                 #max\t 35000.0\t80.0\n"
   ]
  },
  {
   "cell_type": "markdown",
   "metadata": {},
   "source": [
    "Accessors.py"
   ]
  }
 ],
 "metadata": {
  "kernelspec": {
   "display_name": "Python 3",
   "language": "python",
   "name": "python3"
  },
  "language_info": {
   "codemirror_mode": {
    "name": "ipython",
    "version": 3
   },
   "file_extension": ".py",
   "mimetype": "text/x-python",
   "name": "python",
   "nbconvert_exporter": "python",
   "pygments_lexer": "ipython3",
   "version": "3.7.6"
  }
 },
 "nbformat": 4,
 "nbformat_minor": 2
}
