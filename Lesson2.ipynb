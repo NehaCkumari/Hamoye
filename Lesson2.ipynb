{
 "cells": [
  {
   "cell_type": "markdown",
   "metadata": {},
   "source": [
    "convention for importing numpy.py"
   ]
  },
  {
   "cell_type": "code",
   "execution_count": 1,
   "metadata": {},
   "outputs": [
    {
     "name": "stdout",
     "output_type": "stream",
     "text": [
      "<class 'list'>\n",
      "<class 'numpy.ndarray'>\n",
      "(4,)\n",
      "int32\n",
      "1\n",
      "[[1 2 3]\n",
      " [4 5 6]]\n",
      "2\n",
      "(2, 3)\n"
     ]
    }
   ],
   "source": [
    "# convention for importing numpy\n",
    "import numpy as np\n",
    "\n",
    "arr = [6, 7, 8, 9]\n",
    "print(type(arr)) # prints <class 'list'>\n",
    "\n",
    "a = np.array(arr)\n",
    "print(type(a))  # prints <class 'numpy.ndarray'>\n",
    "print(a.shape)  # prints (4,) - a is a 1d array with 4 items\n",
    "print(a.dtype)  # prints int64\n",
    "\n",
    "# get the dimension of a with ndim \n",
    "print(a.ndim)   # prints 1\n",
    "\n",
    "b = np.array([[1, 2, 3], [4, 5, 6]])\n",
    "print(b)        # prints [[1 2 3]\n",
    "                         #[4 5 6]]\n",
    "print(b.ndim)   # prints 2\n",
    "print(b.shape)         # prints (2, 3) - b a 2d array with 2 rows and     3 columns\n"
   ]
  },
  {
   "cell_type": "markdown",
   "metadata": {},
   "source": [
    " Inbuilt functions that can be used to initialize numpy.py"
   ]
  },
  {
   "cell_type": "code",
   "execution_count": 2,
   "metadata": {},
   "outputs": [
    {
     "data": {
      "text/plain": [
       "array([[1., 0., 0.],\n",
       "       [0., 1., 0.],\n",
       "       [0., 0., 1.]])"
      ]
     },
     "execution_count": 2,
     "metadata": {},
     "output_type": "execute_result"
    }
   ],
   "source": [
    "# a 2x3 array with random values\n",
    "np.random.random((2, 3)) #= \n",
    "                      #array([[0.60793904, 0.02881965, 0.73022145],\n",
    "                       #     [0.34183628, 0.63274067, 0.07945224]])\n",
    "# a 2x3 array of zeros\n",
    "np.zeros((2, 3)) #= array([[0., 0., 0.],[0., 0., 0.]])\n",
    "# a 2x3 array of ones\n",
    "np.ones((2, 3)) #= array([[1., 1., 1.], [1., 1., 1.]])\n",
    "\n",
    "# a 3x3 identity matrix \n",
    "np.identity(3) #= array([[1., 0., 0.],[0., 1., 0.],[0., 0., 1.]])\n"
   ]
  },
  {
   "cell_type": "markdown",
   "metadata": {},
   "source": [
    "Indexing with arrays & Using arrays for data processing.py"
   ]
  },
  {
   "cell_type": "code",
   "execution_count": 9,
   "metadata": {},
   "outputs": [
    {
     "name": "stdout",
     "output_type": "stream",
     "text": [
      "[[13. 13. 13.]\n",
      " [10. 10. 10.]]\n",
      "[[36. 40. 42.]\n",
      " [ 9. 16. 21.]]\n",
      "[[1.25       1.         0.83333333]\n",
      " [0.55555556 0.625      0.71428571]]\n",
      "[[81. 64. 49.]\n",
      " [ 1.  4.  9.]]\n"
     ]
    }
   ],
   "source": [
    "c = np.array([[9.0, 8.0, 7.0], [1.0, 2.0, 3.0]])\n",
    "d = np.array([[4.0, 5.0, 6.0], [9.0, 8.0, 7.0]])\n",
    "\n",
    "\n",
    "print(c + d) #= array([[13., 13., 13.],[ 10., 10., 10.]])                 \n",
    "\n",
    "print(c * d) #= array([[36., 40., 42.],[9., 16., 21.]])\n",
    "               \n",
    "               \n",
    "print(5 / d) #= array([[1.25      , 1.        , 0.83333333],\n",
    "               #[0.55555556, 0.625     , 0.71428571]])\n",
    "\n",
    "print(c ** 2) #= array([[81., 64., 49.],[ 1.,  4.,  9.]])"
   ]
  },
  {
   "cell_type": "code",
   "execution_count": 11,
   "metadata": {},
   "outputs": [
    {
     "data": {
      "text/plain": [
       "array([16, 17, 18, 19, 20, 21])"
      ]
     },
     "execution_count": 11,
     "metadata": {},
     "output_type": "execute_result"
    }
   ],
   "source": [
    "#The elements in the example arrays above can be accessed by indexing like lists in Python such that:\n",
    "#a[0] = 6,  a[3] = 9, b[0, 0] = 1 , b[1, 2] = 6 c[0, 1] = 8.  \n",
    "\n",
    "#Elements in arrays  can also be retrieved by slicing rows and columns or a combination of indexing and slicing.\n",
    "d[1,  0:2] #= array([9., 8.])\n",
    "\n",
    "e = np.array([[10, 11, 12],[13, 14, 15], \n",
    "              [16, 17, 18],[19, 20, 21]])\n",
    "\n",
    "# slicing\n",
    "e[:3, :2] #= array([[10, 11], [13, 14],[16, 17]])\n",
    "\n",
    "#There are other advanced methods of indexing which are shown below.\n",
    "# integer indexing\n",
    "e[[2, 0, 3, 1],[2, 1, 0, 2]] #= array([18, 11, 19, 15])\n",
    "\n",
    "# boolean indexing meeting a specified condition\n",
    "e[e>15] #= array([16, 17, 18, 19, 20, 21])\n"
   ]
  },
  {
   "cell_type": "markdown",
   "metadata": {},
   "source": [
    "Intra-operability of arrays and scalars.py"
   ]
  }
 ],
 "metadata": {
  "kernelspec": {
   "display_name": "Python 3",
   "language": "python",
   "name": "python3"
  },
  "language_info": {
   "codemirror_mode": {
    "name": "ipython",
    "version": 3
   },
   "file_extension": ".py",
   "mimetype": "text/x-python",
   "name": "python",
   "nbconvert_exporter": "python",
   "pygments_lexer": "ipython3",
   "version": "3.7.6"
  }
 },
 "nbformat": 4,
 "nbformat_minor": 2
}
